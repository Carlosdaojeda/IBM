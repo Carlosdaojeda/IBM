{
 "cells": [
  {
   "cell_type": "markdown",
   "id": "0eec1132-bbe8-419f-9e2c-66f602390447",
   "metadata": {
    "tags": []
   },
   "source": [
    "# Data Science Tools and Ecosystem"
   ]
  },
  {
   "cell_type": "markdown",
   "id": "1e9836b4-81e0-463c-b140-f336b964e272",
   "metadata": {
    "tags": []
   },
   "source": [
    "In this notebook, Data Science Tools and Ecosystem are summarized."
   ]
  },
  {
   "cell_type": "markdown",
   "id": "861012bf-c082-4a42-bfe1-0654716d81e9",
   "metadata": {},
   "source": [
    "**Objectives:**\n",
    "\n",
    "- List popular languages for Data Science.\n",
    "- Introduce common libraries used in Data Science.\n",
    "- Create a table of Data Science tools.\n",
    "- Provide examples of arithmetic expressions in Python.\n",
    "- Convert minutes to hours in a code cell.\n"
   ]
  },
  {
   "cell_type": "markdown",
   "id": "60433c1f-0122-48e9-8b9c-8b4996d3e6be",
   "metadata": {
    "tags": []
   },
   "source": [
    "Some of the popular languages that Data Scientists use are:\n",
    "1. Python\n",
    "2. R\n",
    "3. SQL"
   ]
  },
  {
   "cell_type": "markdown",
   "id": "08f9685f-d294-4c79-b983-2c1b879e3fb2",
   "metadata": {},
   "source": [
    "Some of the commonly used libraries used by Data Scientists include:\n",
    "1. NumPy\n",
    "2. Pandas\n",
    "3. Matplotlib"
   ]
  },
  {
   "cell_type": "markdown",
   "id": "dfc0292a-33f7-4fcc-8f2b-d19bd68d1c79",
   "metadata": {},
   "source": [
    "# Data Science Tools\n",
    "\n",
    "| Tools                    |\n",
    "|--------------------------|\n",
    "| Jupyter Notebooks        |\n",
    "| RStudio                  |\n",
    "| VS Code (Visual Studio)  |"
   ]
  },
  {
   "cell_type": "markdown",
   "id": "f80c7320-dcff-4b43-b39a-af0a6109c0b6",
   "metadata": {},
   "source": [
    "### Below are a few examples of evaluating arithmetic expressions in Python then add integers"
   ]
  },
  {
   "cell_type": "code",
   "execution_count": 3,
   "id": "21e360aa-cff6-45ef-ab6a-7d7543aa493d",
   "metadata": {
    "tags": []
   },
   "outputs": [
    {
     "data": {
      "text/plain": [
       "3.3333333333333335"
      ]
     },
     "execution_count": 3,
     "metadata": {},
     "output_type": "execute_result"
    }
   ],
   "source": [
    "# This will convert 200 minutes to hours by dividing by 60.\n",
    "minutes = 200\n",
    "hours = minutes / 60\n",
    "hours"
   ]
  },
  {
   "cell_type": "markdown",
   "id": "6d8e4bfe-0b9d-422d-9650-89924fc30bad",
   "metadata": {
    "tags": []
   },
   "source": [
    "## Author\n",
    "Carlos Daniel Ojeda Moreno"
   ]
  },
  {
   "cell_type": "code",
   "execution_count": null,
   "id": "7a3ab922-a784-4176-a1cc-bfd1a5c60039",
   "metadata": {},
   "outputs": [],
   "source": []
  }
 ],
 "metadata": {
  "kernelspec": {
   "display_name": "Python",
   "language": "python",
   "name": "conda-env-python-py"
  },
  "language_info": {
   "codemirror_mode": {
    "name": "ipython",
    "version": 3
   },
   "file_extension": ".py",
   "mimetype": "text/x-python",
   "name": "python",
   "nbconvert_exporter": "python",
   "pygments_lexer": "ipython3",
   "version": "3.7.12"
  }
 },
 "nbformat": 4,
 "nbformat_minor": 5
}
